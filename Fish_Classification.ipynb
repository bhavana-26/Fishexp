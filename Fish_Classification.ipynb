{
  "cells": [
    {
      "cell_type": "code",
      "execution_count": 1,
      "metadata": {
        "colab": {
          "base_uri": "https://localhost:8080/"
        },
        "id": "mxgQEmPNo1ZX",
        "outputId": "5113db25-015f-466c-9643-9293e2631503"
      },
      "outputs": [
        {
          "output_type": "stream",
          "name": "stdout",
          "text": [
            "Mounted at /content/drive\n"
          ]
        }
      ],
      "source": [
        "from google.colab import drive\n",
        "drive.mount('/content/drive')"
      ]
    },
    {
      "cell_type": "code",
      "execution_count": 2,
      "metadata": {
        "id": "Ty-6rmBEuRks"
      },
      "outputs": [],
      "source": [
        "import os\n",
        "import cv2\n",
        "import numpy as np\n",
        "from sklearn.model_selection import train_test_split\n",
        "from tensorflow.keras.applications import MobileNetV2\n",
        "from tensorflow.keras.layers import Input, GlobalAveragePooling2D, Dense, Dropout\n",
        "from tensorflow.keras.models import Model\n",
        "from tensorflow.keras.optimizers import Adam\n",
        "from tensorflow.keras.preprocessing.image import ImageDataGenerator\n",
        "from sklearn.preprocessing import LabelEncoder\n",
        "import zipfile\n",
        "import xml.etree.ElementTree as ET\n",
        "import tensorflow as tf\n",
        "from sklearn.metrics import classification_report"
      ]
    },
    {
      "cell_type": "code",
      "execution_count": 3,
      "metadata": {
        "id": "d-Te2hQyuV6l"
      },
      "outputs": [],
      "source": [
        "class EpochProgressCallback(tf.keras.callbacks.Callback):\n",
        "    def on_epoch_end(self, epoch, logs=None):\n",
        "        print(f\"\\nEpoch {epoch+1}/{self.params['epochs']} - loss: {logs['loss']:.4f} - accuracy: {logs['accuracy']:.4f} - val_loss: {logs['val_loss']:.4f} - val_accuracy: {logs['val_accuracy']:.4f}\")\n"
      ]
    },
    {
      "cell_type": "code",
      "execution_count": 4,
      "metadata": {
        "id": "2fd23fi0uf3s"
      },
      "outputs": [],
      "source": [
        "def parse_xml_annotation(xml_file):\n",
        "    tree = ET.parse(xml_file)\n",
        "    root = tree.getroot()\n",
        "\n",
        "    image_paths = []\n",
        "    disease_labels = []\n",
        "\n",
        "    for object_tag in root.findall('object'):\n",
        "        name = object_tag.find('name').text\n",
        "        bndbox = object_tag.find('bndbox')\n",
        "\n",
        "        image_paths.append(os.path.join(train_image_folder, root.find('filename').text))\n",
        "        disease_labels.append(name)\n",
        "\n",
        "    return image_paths, disease_labels\n"
      ]
    },
    {
      "cell_type": "code",
      "execution_count": 5,
      "metadata": {
        "id": "Hhhmld96uhyu"
      },
      "outputs": [],
      "source": [
        "zip_file_path = \"/content/drive/MyDrive/Colab Notebooks/fish.zip\"\n",
        "train_folder = 'train'\n",
        "test_folder = 'test'\n"
      ]
    },
    {
      "cell_type": "code",
      "execution_count": 6,
      "metadata": {
        "id": "ncCRAuQXujci"
      },
      "outputs": [],
      "source": [
        "with zipfile.ZipFile(zip_file_path, 'r') as zip_ref:\n",
        "    zip_ref.extractall()\n",
        "\n",
        "train_image_folder = train_folder\n",
        "test_image_folder = test_folder\n"
      ]
    },
    {
      "cell_type": "code",
      "execution_count": 7,
      "metadata": {
        "id": "S4ohAMwDul1E"
      },
      "outputs": [],
      "source": [
        "def load_data(image_folder):\n",
        "    images = []\n",
        "    labels = []\n",
        "\n",
        "    for filename in os.listdir(image_folder):\n",
        "        if filename.lower().endswith(('.jpg', '.jpeg', '.png')):\n",
        "            img_file_path = os.path.join(image_folder, filename)\n",
        "            xml_file_name = os.path.splitext(filename)[0] + \".xml\"\n",
        "            xml_file_path = os.path.join(image_folder, xml_file_name)\n",
        "\n",
        "            try:\n",
        "                image = cv2.imread(img_file_path)\n",
        "                if image is None:\n",
        "                    print(f\"Failed to load image: {img_file_path}\")\n",
        "                    continue\n",
        "\n",
        "                image = cv2.resize(image, (224, 224))\n",
        "                image = image / 255.0\n",
        "                images.append(image)\n",
        "                image_paths, disease_labels = parse_xml_annotation(xml_file_path)\n",
        "                labels.append(disease_labels[0])\n",
        "            except Exception as e:\n",
        "                print(f\"Error while processing image: {img_file_path}\")\n",
        "                print(e)\n",
        "\n",
        "    return np.array(images), np.array(labels)\n"
      ]
    },
    {
      "cell_type": "code",
      "execution_count": 8,
      "metadata": {
        "id": "ifiy8s6Yunwl"
      },
      "outputs": [],
      "source": [
        "X_train, y_train = load_data(train_image_folder)\n",
        "X_test, y_test = load_data(test_image_folder)\n"
      ]
    },
    {
      "cell_type": "code",
      "execution_count": 9,
      "metadata": {
        "id": "M1hOg8VDurcb"
      },
      "outputs": [],
      "source": [
        "label_encoder = LabelEncoder()\n",
        "y_train_encoded = label_encoder.fit_transform(y_train)\n",
        "y_test_encoded = label_encoder.transform(y_test)\n"
      ]
    },
    {
      "cell_type": "code",
      "execution_count": 10,
      "metadata": {
        "id": "sm1XX4s4utOf"
      },
      "outputs": [],
      "source": [
        "num_classes = len(np.unique(y_train_encoded))\n",
        "y_train = tf.keras.utils.to_categorical(y_train_encoded, num_classes)\n",
        "y_test = tf.keras.utils.to_categorical(y_test_encoded, num_classes)\n"
      ]
    },
    {
      "cell_type": "code",
      "execution_count": 11,
      "metadata": {
        "id": "uz8L6KmduuxN"
      },
      "outputs": [],
      "source": [
        "X_train, X_val, y_train, y_val = train_test_split(X_train, y_train, test_size=0.2, random_state=42)\n"
      ]
    },
    {
      "cell_type": "code",
      "execution_count": 12,
      "metadata": {
        "id": "9H5bEOpduwXL"
      },
      "outputs": [],
      "source": [
        "datagen = ImageDataGenerator(\n",
        "    rotation_range=30,\n",
        "    width_shift_range=0.2,\n",
        "    height_shift_range=0.2,\n",
        "    shear_range=0.2,\n",
        "    zoom_range=0.2,\n",
        "    horizontal_flip=True,\n",
        "    vertical_flip=True,\n",
        "    fill_mode='nearest'\n",
        ")\n"
      ]
    },
    {
      "cell_type": "code",
      "execution_count": 13,
      "metadata": {
        "id": "uw6YptRPuxbz"
      },
      "outputs": [],
      "source": [
        "class_weights = {class_index: 1.0 / np.sum(y_train_encoded == class_index) for class_index in range(num_classes)}\n"
      ]
    },
    {
      "cell_type": "code",
      "execution_count": 14,
      "metadata": {
        "colab": {
          "base_uri": "https://localhost:8080/"
        },
        "id": "DRcCk1VMuyj9",
        "outputId": "feec0159-587e-4f70-d28a-5d1ef13c8453"
      },
      "outputs": [
        {
          "output_type": "stream",
          "name": "stdout",
          "text": [
            "Downloading data from https://storage.googleapis.com/tensorflow/keras-applications/mobilenet_v2/mobilenet_v2_weights_tf_dim_ordering_tf_kernels_1.0_224_no_top.h5\n",
            "9406464/9406464 [==============================] - 1s 0us/step\n"
          ]
        }
      ],
      "source": [
        "base_model = MobileNetV2(weights='imagenet', include_top=False, input_shape=(224, 224, 3))\n"
      ]
    },
    {
      "cell_type": "code",
      "execution_count": 15,
      "metadata": {
        "id": "kMAeVeWZuzuU"
      },
      "outputs": [],
      "source": [
        "for layer in base_model.layers:\n",
        "    layer.trainable = False\n"
      ]
    },
    {
      "cell_type": "code",
      "execution_count": 16,
      "metadata": {
        "id": "M507idcsu1R9"
      },
      "outputs": [],
      "source": [
        "x = base_model.output\n",
        "x = GlobalAveragePooling2D()(x)\n",
        "x = Dense(512, activation='relu', kernel_regularizer=tf.keras.regularizers.l2(0.01))(x)\n",
        "x = Dropout(0.5)(x)\n",
        "predictions = Dense(num_classes, activation='softmax')(x)\n"
      ]
    },
    {
      "cell_type": "code",
      "execution_count": 17,
      "metadata": {
        "id": "7ISyz67gu2oJ"
      },
      "outputs": [],
      "source": [
        "model = Model(inputs=base_model.input, outputs=predictions)\n"
      ]
    },
    {
      "cell_type": "code",
      "execution_count": 18,
      "metadata": {
        "id": "B3XxvCaku3xd"
      },
      "outputs": [],
      "source": [
        "optimizer = Adam(learning_rate=0.0001)\n",
        "model.compile(optimizer=optimizer, loss='categorical_crossentropy', metrics=['accuracy'])\n"
      ]
    },
    {
      "cell_type": "code",
      "execution_count": 19,
      "metadata": {
        "id": "yL3Q3-PZu45D"
      },
      "outputs": [],
      "source": [
        "lr_scheduler = tf.keras.callbacks.ReduceLROnPlateau(factor=0.5, patience=2, min_lr=1e-7)\n"
      ]
    },
    {
      "cell_type": "code",
      "execution_count": 20,
      "metadata": {
        "id": "pccPSFxEu6Du"
      },
      "outputs": [],
      "source": [
        "early_stopping_callback = tf.keras.callbacks.EarlyStopping(patience=5, restore_best_weights=True)\n"
      ]
    },
    {
      "cell_type": "code",
      "execution_count": 21,
      "metadata": {
        "colab": {
          "base_uri": "https://localhost:8080/"
        },
        "id": "waYWAWb3u7JM",
        "outputId": "596735e9-b710-4cdf-c220-40b95425a702"
      },
      "outputs": [
        {
          "output_type": "stream",
          "name": "stdout",
          "text": [
            "Epoch 1/50\n",
            "2/2 [===================>..........] - ETA: 0s - loss: 7.3668 - accuracy: 0.3333 \n",
            "Epoch 1/50 - loss: 7.3464 - accuracy: 0.3368 - val_loss: 8.5987 - val_accuracy: 0.4583\n",
            "2/2 [==============================] - 15s 1s/step - loss: 7.3464 - accuracy: 0.3368 - val_loss: 8.5987 - val_accuracy: 0.4583 - lr: 1.0000e-04\n",
            "Epoch 2/50\n",
            "3/2 [==============================] - ETA: 0s - loss: 7.2414 - accuracy: 0.3368\n",
            "Epoch 2/50 - loss: 7.2414 - accuracy: 0.3368 - val_loss: 8.5280 - val_accuracy: 0.3750\n",
            "2/2 [==============================] - 2s 694ms/step - loss: 7.2414 - accuracy: 0.3368 - val_loss: 8.5280 - val_accuracy: 0.3750 - lr: 1.0000e-04\n",
            "Epoch 3/50\n",
            "3/2 [==============================] - ETA: 0s - loss: 7.1256 - accuracy: 0.3579\n",
            "Epoch 3/50 - loss: 7.1256 - accuracy: 0.3579 - val_loss: 8.4240 - val_accuracy: 0.1250\n",
            "2/2 [==============================] - 2s 775ms/step - loss: 7.1256 - accuracy: 0.3579 - val_loss: 8.4240 - val_accuracy: 0.1250 - lr: 1.0000e-04\n",
            "Epoch 4/50\n",
            "3/2 [==============================] - ETA: 0s - loss: 7.0262 - accuracy: 0.3684\n",
            "Epoch 4/50 - loss: 7.0262 - accuracy: 0.3684 - val_loss: 8.2971 - val_accuracy: 0.0833\n",
            "2/2 [==============================] - 2s 476ms/step - loss: 7.0262 - accuracy: 0.3684 - val_loss: 8.2971 - val_accuracy: 0.0833 - lr: 1.0000e-04\n",
            "Epoch 5/50\n",
            "3/2 [==============================] - ETA: 0s - loss: 6.9234 - accuracy: 0.3684\n",
            "Epoch 5/50 - loss: 6.9234 - accuracy: 0.3684 - val_loss: 8.1509 - val_accuracy: 0.1667\n",
            "2/2 [==============================] - 1s 432ms/step - loss: 6.9234 - accuracy: 0.3684 - val_loss: 8.1509 - val_accuracy: 0.1667 - lr: 1.0000e-04\n",
            "Epoch 6/50\n",
            "3/2 [==============================] - ETA: 0s - loss: 6.8239 - accuracy: 0.4105\n",
            "Epoch 6/50 - loss: 6.8239 - accuracy: 0.4105 - val_loss: 7.9920 - val_accuracy: 0.2500\n",
            "2/2 [==============================] - 1s 425ms/step - loss: 6.8239 - accuracy: 0.4105 - val_loss: 7.9920 - val_accuracy: 0.2500 - lr: 1.0000e-04\n",
            "Epoch 7/50\n",
            "3/2 [==============================] - ETA: 0s - loss: 6.7231 - accuracy: 0.4526\n",
            "Epoch 7/50 - loss: 6.7231 - accuracy: 0.4526 - val_loss: 7.8316 - val_accuracy: 0.3750\n",
            "2/2 [==============================] - 1s 442ms/step - loss: 6.7231 - accuracy: 0.4526 - val_loss: 7.8316 - val_accuracy: 0.3750 - lr: 1.0000e-04\n",
            "Epoch 8/50\n",
            "3/2 [==============================] - ETA: 0s - loss: 6.6230 - accuracy: 0.4526\n",
            "Epoch 8/50 - loss: 6.6230 - accuracy: 0.4526 - val_loss: 7.6682 - val_accuracy: 0.4583\n",
            "2/2 [==============================] - 1s 431ms/step - loss: 6.6230 - accuracy: 0.4526 - val_loss: 7.6682 - val_accuracy: 0.4583 - lr: 1.0000e-04\n",
            "Epoch 9/50\n",
            "3/2 [==============================] - ETA: 0s - loss: 6.5225 - accuracy: 0.5053\n",
            "Epoch 9/50 - loss: 6.5225 - accuracy: 0.5053 - val_loss: 7.5209 - val_accuracy: 0.5417\n",
            "2/2 [==============================] - 1s 428ms/step - loss: 6.5225 - accuracy: 0.5053 - val_loss: 7.5209 - val_accuracy: 0.5417 - lr: 1.0000e-04\n",
            "Epoch 10/50\n",
            "3/2 [==============================] - ETA: 0s - loss: 6.4285 - accuracy: 0.5158\n",
            "Epoch 10/50 - loss: 6.4285 - accuracy: 0.5158 - val_loss: 7.3876 - val_accuracy: 0.5833\n",
            "2/2 [==============================] - 1s 570ms/step - loss: 6.4285 - accuracy: 0.5158 - val_loss: 7.3876 - val_accuracy: 0.5833 - lr: 1.0000e-04\n",
            "Epoch 11/50\n",
            "3/2 [==============================] - ETA: 0s - loss: 6.3308 - accuracy: 0.6105\n",
            "Epoch 11/50 - loss: 6.3308 - accuracy: 0.6105 - val_loss: 7.2676 - val_accuracy: 0.5417\n",
            "2/2 [==============================] - 2s 744ms/step - loss: 6.3308 - accuracy: 0.6105 - val_loss: 7.2676 - val_accuracy: 0.5417 - lr: 1.0000e-04\n",
            "Epoch 12/50\n",
            "3/2 [==============================] - ETA: 0s - loss: 6.2390 - accuracy: 0.5579\n",
            "Epoch 12/50 - loss: 6.2390 - accuracy: 0.5579 - val_loss: 7.1601 - val_accuracy: 0.5417\n",
            "2/2 [==============================] - 1s 413ms/step - loss: 6.2390 - accuracy: 0.5579 - val_loss: 7.1601 - val_accuracy: 0.5417 - lr: 1.0000e-04\n",
            "Epoch 13/50\n",
            "3/2 [==============================] - ETA: 0s - loss: 6.1427 - accuracy: 0.5684\n",
            "Epoch 13/50 - loss: 6.1427 - accuracy: 0.5684 - val_loss: 7.0523 - val_accuracy: 0.6250\n",
            "2/2 [==============================] - 1s 428ms/step - loss: 6.1427 - accuracy: 0.5684 - val_loss: 7.0523 - val_accuracy: 0.6250 - lr: 1.0000e-04\n",
            "Epoch 14/50\n",
            "3/2 [==============================] - ETA: 0s - loss: 6.0541 - accuracy: 0.6316\n",
            "Epoch 14/50 - loss: 6.0541 - accuracy: 0.6316 - val_loss: 6.9479 - val_accuracy: 0.6250\n",
            "2/2 [==============================] - 1s 409ms/step - loss: 6.0541 - accuracy: 0.6316 - val_loss: 6.9479 - val_accuracy: 0.6250 - lr: 1.0000e-04\n",
            "Epoch 15/50\n",
            "3/2 [==============================] - ETA: 0s - loss: 5.9646 - accuracy: 0.5684\n",
            "Epoch 15/50 - loss: 5.9646 - accuracy: 0.5684 - val_loss: 6.8512 - val_accuracy: 0.6250\n",
            "2/2 [==============================] - 1s 424ms/step - loss: 5.9646 - accuracy: 0.5684 - val_loss: 6.8512 - val_accuracy: 0.6250 - lr: 1.0000e-04\n",
            "Epoch 16/50\n",
            "3/2 [==============================] - ETA: 0s - loss: 5.8693 - accuracy: 0.6421\n",
            "Epoch 16/50 - loss: 5.8693 - accuracy: 0.6421 - val_loss: 6.7501 - val_accuracy: 0.6250\n",
            "2/2 [==============================] - 1s 435ms/step - loss: 5.8693 - accuracy: 0.6421 - val_loss: 6.7501 - val_accuracy: 0.6250 - lr: 1.0000e-04\n",
            "Epoch 17/50\n",
            "3/2 [==============================] - ETA: 0s - loss: 5.7863 - accuracy: 0.5368\n",
            "Epoch 17/50 - loss: 5.7863 - accuracy: 0.5368 - val_loss: 6.6426 - val_accuracy: 0.5833\n",
            "2/2 [==============================] - 1s 434ms/step - loss: 5.7863 - accuracy: 0.5368 - val_loss: 6.6426 - val_accuracy: 0.5833 - lr: 1.0000e-04\n",
            "Epoch 18/50\n",
            "3/2 [==============================] - ETA: 0s - loss: 5.6934 - accuracy: 0.6211\n",
            "Epoch 18/50 - loss: 5.6934 - accuracy: 0.6211 - val_loss: 6.5416 - val_accuracy: 0.5833\n",
            "2/2 [==============================] - 1s 405ms/step - loss: 5.6934 - accuracy: 0.6211 - val_loss: 6.5416 - val_accuracy: 0.5833 - lr: 1.0000e-04\n",
            "Epoch 19/50\n",
            "3/2 [==============================] - ETA: 0s - loss: 5.6086 - accuracy: 0.6526\n",
            "Epoch 19/50 - loss: 5.6086 - accuracy: 0.6526 - val_loss: 6.4407 - val_accuracy: 0.7083\n",
            "2/2 [==============================] - 1s 410ms/step - loss: 5.6086 - accuracy: 0.6526 - val_loss: 6.4407 - val_accuracy: 0.7083 - lr: 1.0000e-04\n",
            "Epoch 20/50\n",
            "3/2 [==============================] - ETA: 0s - loss: 5.5250 - accuracy: 0.6000\n",
            "Epoch 20/50 - loss: 5.5250 - accuracy: 0.6000 - val_loss: 6.3313 - val_accuracy: 0.7083\n",
            "2/2 [==============================] - 2s 754ms/step - loss: 5.5250 - accuracy: 0.6000 - val_loss: 6.3313 - val_accuracy: 0.7083 - lr: 1.0000e-04\n",
            "Epoch 21/50\n",
            "3/2 [==============================] - ETA: 0s - loss: 5.4442 - accuracy: 0.6211\n",
            "Epoch 21/50 - loss: 5.4442 - accuracy: 0.6211 - val_loss: 6.2285 - val_accuracy: 0.7083\n",
            "2/2 [==============================] - 2s 723ms/step - loss: 5.4442 - accuracy: 0.6211 - val_loss: 6.2285 - val_accuracy: 0.7083 - lr: 1.0000e-04\n",
            "Epoch 22/50\n",
            "3/2 [==============================] - ETA: 0s - loss: 5.3587 - accuracy: 0.6947\n",
            "Epoch 22/50 - loss: 5.3587 - accuracy: 0.6947 - val_loss: 6.1234 - val_accuracy: 0.7083\n",
            "2/2 [==============================] - 1s 444ms/step - loss: 5.3587 - accuracy: 0.6947 - val_loss: 6.1234 - val_accuracy: 0.7083 - lr: 1.0000e-04\n",
            "Epoch 23/50\n",
            "3/2 [==============================] - ETA: 0s - loss: 5.2720 - accuracy: 0.7789\n",
            "Epoch 23/50 - loss: 5.2720 - accuracy: 0.7789 - val_loss: 6.0301 - val_accuracy: 0.7083\n",
            "2/2 [==============================] - 1s 414ms/step - loss: 5.2720 - accuracy: 0.7789 - val_loss: 6.0301 - val_accuracy: 0.7083 - lr: 1.0000e-04\n",
            "Epoch 24/50\n",
            "3/2 [==============================] - ETA: 0s - loss: 5.1981 - accuracy: 0.7053\n",
            "Epoch 24/50 - loss: 5.1981 - accuracy: 0.7053 - val_loss: 5.9302 - val_accuracy: 0.7500\n",
            "2/2 [==============================] - 1s 437ms/step - loss: 5.1981 - accuracy: 0.7053 - val_loss: 5.9302 - val_accuracy: 0.7500 - lr: 1.0000e-04\n",
            "Epoch 25/50\n",
            "3/2 [==============================] - ETA: 0s - loss: 5.1162 - accuracy: 0.6947\n",
            "Epoch 25/50 - loss: 5.1162 - accuracy: 0.6947 - val_loss: 5.8401 - val_accuracy: 0.7917\n",
            "2/2 [==============================] - 1s 422ms/step - loss: 5.1162 - accuracy: 0.6947 - val_loss: 5.8401 - val_accuracy: 0.7917 - lr: 1.0000e-04\n",
            "Epoch 26/50\n",
            "3/2 [==============================] - ETA: 0s - loss: 5.0376 - accuracy: 0.7474\n",
            "Epoch 26/50 - loss: 5.0376 - accuracy: 0.7474 - val_loss: 5.7412 - val_accuracy: 0.7917\n",
            "2/2 [==============================] - 1s 419ms/step - loss: 5.0376 - accuracy: 0.7474 - val_loss: 5.7412 - val_accuracy: 0.7917 - lr: 1.0000e-04\n",
            "Epoch 27/50\n",
            "3/2 [==============================] - ETA: 0s - loss: 4.9618 - accuracy: 0.7474\n",
            "Epoch 27/50 - loss: 4.9618 - accuracy: 0.7474 - val_loss: 5.6486 - val_accuracy: 0.7917\n",
            "2/2 [==============================] - 1s 425ms/step - loss: 4.9618 - accuracy: 0.7474 - val_loss: 5.6486 - val_accuracy: 0.7917 - lr: 1.0000e-04\n",
            "Epoch 28/50\n",
            "3/2 [==============================] - ETA: 0s - loss: 4.8863 - accuracy: 0.7684\n",
            "Epoch 28/50 - loss: 4.8863 - accuracy: 0.7684 - val_loss: 5.5732 - val_accuracy: 0.7917\n",
            "2/2 [==============================] - 1s 425ms/step - loss: 4.8863 - accuracy: 0.7684 - val_loss: 5.5732 - val_accuracy: 0.7917 - lr: 1.0000e-04\n",
            "Epoch 29/50\n",
            "3/2 [==============================] - ETA: 0s - loss: 4.8078 - accuracy: 0.7789\n",
            "Epoch 29/50 - loss: 4.8078 - accuracy: 0.7789 - val_loss: 5.5270 - val_accuracy: 0.7500\n",
            "2/2 [==============================] - 2s 760ms/step - loss: 4.8078 - accuracy: 0.7789 - val_loss: 5.5270 - val_accuracy: 0.7500 - lr: 1.0000e-04\n",
            "Epoch 30/50\n",
            "3/2 [==============================] - ETA: 0s - loss: 4.7385 - accuracy: 0.7895\n",
            "Epoch 30/50 - loss: 4.7385 - accuracy: 0.7895 - val_loss: 5.4676 - val_accuracy: 0.6667\n",
            "2/2 [==============================] - 2s 582ms/step - loss: 4.7385 - accuracy: 0.7895 - val_loss: 5.4676 - val_accuracy: 0.6667 - lr: 1.0000e-04\n",
            "Epoch 31/50\n",
            "3/2 [==============================] - ETA: 0s - loss: 4.6650 - accuracy: 0.6737\n",
            "Epoch 31/50 - loss: 4.6650 - accuracy: 0.6737 - val_loss: 5.3850 - val_accuracy: 0.6250\n",
            "2/2 [==============================] - 1s 420ms/step - loss: 4.6650 - accuracy: 0.6737 - val_loss: 5.3850 - val_accuracy: 0.6250 - lr: 1.0000e-04\n",
            "Epoch 32/50\n",
            "3/2 [==============================] - ETA: 0s - loss: 4.5920 - accuracy: 0.7474\n",
            "Epoch 32/50 - loss: 4.5920 - accuracy: 0.7474 - val_loss: 5.3028 - val_accuracy: 0.6250\n",
            "2/2 [==============================] - 1s 414ms/step - loss: 4.5920 - accuracy: 0.7474 - val_loss: 5.3028 - val_accuracy: 0.6250 - lr: 1.0000e-04\n",
            "Epoch 33/50\n",
            "3/2 [==============================] - ETA: 0s - loss: 4.5216 - accuracy: 0.7263\n",
            "Epoch 33/50 - loss: 4.5216 - accuracy: 0.7263 - val_loss: 5.2201 - val_accuracy: 0.6250\n",
            "2/2 [==============================] - 1s 438ms/step - loss: 4.5216 - accuracy: 0.7263 - val_loss: 5.2201 - val_accuracy: 0.6250 - lr: 1.0000e-04\n",
            "Epoch 34/50\n",
            "3/2 [==============================] - ETA: 0s - loss: 4.4495 - accuracy: 0.7579\n",
            "Epoch 34/50 - loss: 4.4495 - accuracy: 0.7579 - val_loss: 5.1164 - val_accuracy: 0.7500\n",
            "2/2 [==============================] - 1s 421ms/step - loss: 4.4495 - accuracy: 0.7579 - val_loss: 5.1164 - val_accuracy: 0.7500 - lr: 1.0000e-04\n",
            "Epoch 35/50\n",
            "3/2 [==============================] - ETA: 0s - loss: 4.3805 - accuracy: 0.7263\n",
            "Epoch 35/50 - loss: 4.3805 - accuracy: 0.7263 - val_loss: 5.0201 - val_accuracy: 0.8333\n",
            "2/2 [==============================] - 1s 427ms/step - loss: 4.3805 - accuracy: 0.7263 - val_loss: 5.0201 - val_accuracy: 0.8333 - lr: 1.0000e-04\n",
            "Epoch 36/50\n",
            "3/2 [==============================] - ETA: 0s - loss: 4.3163 - accuracy: 0.6842\n",
            "Epoch 36/50 - loss: 4.3163 - accuracy: 0.6842 - val_loss: 4.9272 - val_accuracy: 0.8333\n",
            "2/2 [==============================] - 1s 422ms/step - loss: 4.3163 - accuracy: 0.6842 - val_loss: 4.9272 - val_accuracy: 0.8333 - lr: 1.0000e-04\n",
            "Epoch 37/50\n",
            "3/2 [==============================] - ETA: 0s - loss: 4.2456 - accuracy: 0.7895\n",
            "Epoch 37/50 - loss: 4.2456 - accuracy: 0.7895 - val_loss: 4.8391 - val_accuracy: 0.8333\n",
            "2/2 [==============================] - 2s 725ms/step - loss: 4.2456 - accuracy: 0.7895 - val_loss: 4.8391 - val_accuracy: 0.8333 - lr: 1.0000e-04\n",
            "Epoch 38/50\n",
            "3/2 [==============================] - ETA: 0s - loss: 4.1794 - accuracy: 0.8316\n",
            "Epoch 38/50 - loss: 4.1794 - accuracy: 0.8316 - val_loss: 4.7719 - val_accuracy: 0.8333\n",
            "2/2 [==============================] - 2s 711ms/step - loss: 4.1794 - accuracy: 0.8316 - val_loss: 4.7719 - val_accuracy: 0.8333 - lr: 1.0000e-04\n",
            "Epoch 39/50\n",
            "3/2 [==============================] - ETA: 0s - loss: 4.1146 - accuracy: 0.7895\n",
            "Epoch 39/50 - loss: 4.1146 - accuracy: 0.7895 - val_loss: 4.7151 - val_accuracy: 0.8333\n",
            "2/2 [==============================] - 1s 412ms/step - loss: 4.1146 - accuracy: 0.7895 - val_loss: 4.7151 - val_accuracy: 0.8333 - lr: 1.0000e-04\n",
            "Epoch 40/50\n",
            "3/2 [==============================] - ETA: 0s - loss: 4.0494 - accuracy: 0.7789\n",
            "Epoch 40/50 - loss: 4.0494 - accuracy: 0.7789 - val_loss: 4.6695 - val_accuracy: 0.7917\n",
            "2/2 [==============================] - 1s 457ms/step - loss: 4.0494 - accuracy: 0.7789 - val_loss: 4.6695 - val_accuracy: 0.7917 - lr: 1.0000e-04\n",
            "Epoch 41/50\n",
            "3/2 [==============================] - ETA: 0s - loss: 3.9885 - accuracy: 0.7158\n",
            "Epoch 41/50 - loss: 3.9885 - accuracy: 0.7158 - val_loss: 4.6173 - val_accuracy: 0.7917\n",
            "2/2 [==============================] - 1s 419ms/step - loss: 3.9885 - accuracy: 0.7158 - val_loss: 4.6173 - val_accuracy: 0.7917 - lr: 1.0000e-04\n",
            "Epoch 42/50\n",
            "3/2 [==============================] - ETA: 0s - loss: 3.9251 - accuracy: 0.7684\n",
            "Epoch 42/50 - loss: 3.9251 - accuracy: 0.7684 - val_loss: 4.5566 - val_accuracy: 0.7917\n",
            "2/2 [==============================] - 1s 427ms/step - loss: 3.9251 - accuracy: 0.7684 - val_loss: 4.5566 - val_accuracy: 0.7917 - lr: 1.0000e-04\n",
            "Epoch 43/50\n",
            "3/2 [==============================] - ETA: 0s - loss: 3.8627 - accuracy: 0.8105\n",
            "Epoch 43/50 - loss: 3.8627 - accuracy: 0.8105 - val_loss: 4.4904 - val_accuracy: 0.7500\n",
            "2/2 [==============================] - 1s 422ms/step - loss: 3.8627 - accuracy: 0.8105 - val_loss: 4.4904 - val_accuracy: 0.7500 - lr: 1.0000e-04\n",
            "Epoch 44/50\n",
            "3/2 [==============================] - ETA: 0s - loss: 3.8012 - accuracy: 0.8105\n",
            "Epoch 44/50 - loss: 3.8012 - accuracy: 0.8105 - val_loss: 4.4146 - val_accuracy: 0.7917\n",
            "2/2 [==============================] - 1s 427ms/step - loss: 3.8012 - accuracy: 0.8105 - val_loss: 4.4146 - val_accuracy: 0.7917 - lr: 1.0000e-04\n",
            "Epoch 45/50\n",
            "3/2 [==============================] - ETA: 0s - loss: 3.7407 - accuracy: 0.7895\n",
            "Epoch 45/50 - loss: 3.7407 - accuracy: 0.7895 - val_loss: 4.3363 - val_accuracy: 0.7917\n",
            "2/2 [==============================] - 2s 713ms/step - loss: 3.7407 - accuracy: 0.7895 - val_loss: 4.3363 - val_accuracy: 0.7917 - lr: 1.0000e-04\n",
            "Epoch 46/50\n",
            "3/2 [==============================] - ETA: 0s - loss: 3.6849 - accuracy: 0.7579\n",
            "Epoch 46/50 - loss: 3.6849 - accuracy: 0.7579 - val_loss: 4.2702 - val_accuracy: 0.7917\n",
            "2/2 [==============================] - 2s 741ms/step - loss: 3.6849 - accuracy: 0.7579 - val_loss: 4.2702 - val_accuracy: 0.7917 - lr: 1.0000e-04\n",
            "Epoch 47/50\n",
            "3/2 [==============================] - ETA: 0s - loss: 3.6241 - accuracy: 0.8211\n",
            "Epoch 47/50 - loss: 3.6241 - accuracy: 0.8211 - val_loss: 4.2065 - val_accuracy: 0.8333\n",
            "2/2 [==============================] - 2s 448ms/step - loss: 3.6241 - accuracy: 0.8211 - val_loss: 4.2065 - val_accuracy: 0.8333 - lr: 1.0000e-04\n",
            "Epoch 48/50\n",
            "3/2 [==============================] - ETA: 0s - loss: 3.5686 - accuracy: 0.8316\n",
            "Epoch 48/50 - loss: 3.5686 - accuracy: 0.8316 - val_loss: 4.1418 - val_accuracy: 0.8333\n",
            "2/2 [==============================] - 1s 422ms/step - loss: 3.5686 - accuracy: 0.8316 - val_loss: 4.1418 - val_accuracy: 0.8333 - lr: 1.0000e-04\n",
            "Epoch 49/50\n",
            "3/2 [==============================] - ETA: 0s - loss: 3.5121 - accuracy: 0.7789\n",
            "Epoch 49/50 - loss: 3.5121 - accuracy: 0.7789 - val_loss: 4.0615 - val_accuracy: 0.8333\n",
            "2/2 [==============================] - 1s 416ms/step - loss: 3.5121 - accuracy: 0.7789 - val_loss: 4.0615 - val_accuracy: 0.8333 - lr: 1.0000e-04\n",
            "Epoch 50/50\n",
            "3/2 [==============================] - ETA: 0s - loss: 3.4570 - accuracy: 0.7895\n",
            "Epoch 50/50 - loss: 3.4570 - accuracy: 0.7895 - val_loss: 3.9992 - val_accuracy: 0.8333\n",
            "2/2 [==============================] - 1s 418ms/step - loss: 3.4570 - accuracy: 0.7895 - val_loss: 3.9992 - val_accuracy: 0.8333 - lr: 1.0000e-04\n"
          ]
        }
      ],
      "source": [
        "history = model.fit(\n",
        "    datagen.flow(X_train, y_train, batch_size=32),\n",
        "    steps_per_epoch=len(X_train) / 32,\n",
        "    epochs=50,\n",
        "    validation_data=(X_val, y_val),\n",
        "    callbacks=[EpochProgressCallback(), lr_scheduler, early_stopping_callback],\n",
        "    class_weight=class_weights\n",
        ")\n"
      ]
    },
    {
      "cell_type": "code",
      "execution_count": 22,
      "metadata": {
        "colab": {
          "base_uri": "https://localhost:8080/"
        },
        "id": "Aw7CPy20u8Wl",
        "outputId": "bf3d4268-9228-427f-b561-ce1f722469a7"
      },
      "outputs": [
        {
          "output_type": "stream",
          "name": "stdout",
          "text": [
            "1/1 [==============================] - 1s 564ms/step - loss: 4.1239 - accuracy: 0.8750\n",
            "Test Loss: 4.1239 - Test Accuracy: 0.8750\n"
          ]
        }
      ],
      "source": [
        "loss, accuracy = model.evaluate(X_test, y_test)\n",
        "print(f\"Test Loss: {loss:.4f} - Test Accuracy: {accuracy:.4f}\")\n"
      ]
    },
    {
      "cell_type": "code",
      "execution_count": 23,
      "metadata": {
        "colab": {
          "base_uri": "https://localhost:8080/"
        },
        "id": "MzAsHaC-u9H5",
        "outputId": "16b92105-8bbf-4de0-a8d0-9ab6c72a5992"
      },
      "outputs": [
        {
          "output_type": "stream",
          "name": "stdout",
          "text": [
            "1/1 [==============================] - 1s 757ms/step\n"
          ]
        }
      ],
      "source": [
        "y_pred = model.predict(X_test)\n",
        "y_pred_classes = np.argmax(y_pred, axis=1)\n",
        "y_test_classes = np.argmax(y_test, axis=1)\n"
      ]
    },
    {
      "cell_type": "code",
      "execution_count": 24,
      "metadata": {
        "id": "8h424OmAu-Br"
      },
      "outputs": [],
      "source": [
        "\n",
        "# Convert class indices back to disease labels\n",
        "predicted_diseases = label_encoder.inverse_transform(y_pred_classes)\n",
        "actual_diseases = label_encoder.inverse_transform(y_test_classes)\n"
      ]
    },
    {
      "cell_type": "code",
      "execution_count": 25,
      "metadata": {
        "colab": {
          "base_uri": "https://localhost:8080/"
        },
        "id": "B6ut-XKNu_Ps",
        "outputId": "302a6185-6be8-495a-97f8-5ed62af817b5"
      },
      "outputs": [
        {
          "output_type": "stream",
          "name": "stdout",
          "text": [
            "              precision    recall  f1-score   support\n",
            "\n",
            "        Carp       1.00      1.00      1.00         2\n",
            "       Catla       1.00      0.50      0.67         2\n",
            "      Kendai       1.00      1.00      1.00         2\n",
            "      Silver       0.67      1.00      0.80         2\n",
            "\n",
            "    accuracy                           0.88         8\n",
            "   macro avg       0.92      0.88      0.87         8\n",
            "weighted avg       0.92      0.88      0.87         8\n",
            "\n"
          ]
        }
      ],
      "source": [
        "print(classification_report(actual_diseases, predicted_diseases))"
      ]
    }
  ],
  "metadata": {
    "accelerator": "GPU",
    "colab": {
      "gpuType": "T4",
      "provenance": []
    },
    "kernelspec": {
      "display_name": "Python 3 (ipykernel)",
      "language": "python",
      "name": "python3"
    },
    "language_info": {
      "codemirror_mode": {
        "name": "ipython",
        "version": 3
      },
      "file_extension": ".py",
      "mimetype": "text/x-python",
      "name": "python",
      "nbconvert_exporter": "python",
      "pygments_lexer": "ipython3",
      "version": "3.9.13"
    }
  },
  "nbformat": 4,
  "nbformat_minor": 0
}